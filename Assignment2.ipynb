{
  "nbformat": 4,
  "nbformat_minor": 0,
  "metadata": {
    "colab": {
      "name": "Assignment2.ipynb",
      "provenance": []
    },
    "kernelspec": {
      "name": "python3",
      "display_name": "Python 3"
    },
    "language_info": {
      "name": "python"
    }
  },
  "cells": [
    {
      "cell_type": "code",
      "execution_count": 3,
      "metadata": {
        "id": "YInqOXAbtIBF"
      },
      "outputs": [],
      "source": [
        "import tweepy\n",
        "import pandas as pd\n",
        "\n",
        "from vaderSentiment.vaderSentiment import SentimentIntensityAnalyzer"
      ]
    },
    {
      "cell_type": "code",
      "source": [
        "pip install vaderSentiment"
      ],
      "metadata": {
        "colab": {
          "base_uri": "https://localhost:8080/"
        },
        "id": "31nDRO1GtMtR",
        "outputId": "a179bb79-b7d6-407e-852f-0352babe71f2"
      },
      "execution_count": 2,
      "outputs": [
        {
          "output_type": "stream",
          "name": "stdout",
          "text": [
            "Collecting vaderSentiment\n",
            "  Downloading vaderSentiment-3.3.2-py2.py3-none-any.whl (125 kB)\n",
            "\u001b[K     |████████████████████████████████| 125 kB 4.7 MB/s \n",
            "\u001b[?25hRequirement already satisfied: requests in /usr/local/lib/python3.7/dist-packages (from vaderSentiment) (2.23.0)\n",
            "Requirement already satisfied: idna<3,>=2.5 in /usr/local/lib/python3.7/dist-packages (from requests->vaderSentiment) (2.10)\n",
            "Requirement already satisfied: certifi>=2017.4.17 in /usr/local/lib/python3.7/dist-packages (from requests->vaderSentiment) (2021.10.8)\n",
            "Requirement already satisfied: chardet<4,>=3.0.2 in /usr/local/lib/python3.7/dist-packages (from requests->vaderSentiment) (3.0.4)\n",
            "Requirement already satisfied: urllib3!=1.25.0,!=1.25.1,<1.26,>=1.21.1 in /usr/local/lib/python3.7/dist-packages (from requests->vaderSentiment) (1.24.3)\n",
            "Installing collected packages: vaderSentiment\n",
            "Successfully installed vaderSentiment-3.3.2\n"
          ]
        }
      ]
    },
    {
      "cell_type": "code",
      "source": [
        "def authenticate(api_key,api_secret,access_token,access_token_secret):\n",
        "    auth = tweepy.OAuthHandler(api_key, api_secret)\n",
        "    auth.set_access_token(access_token, access_token_secret)\n",
        "    api = tweepy.API(auth)  \n",
        "    print(api.verify_credentials().screen_name)\n",
        "    return api"
      ],
      "metadata": {
        "id": "_qJm-I3ntSGt"
      },
      "execution_count": 4,
      "outputs": []
    },
    {
      "cell_type": "code",
      "source": [
        "def tweet_data(api, keyword, max_r):\n",
        "    tweets = tweepy.Cursor(api.search, q=keyword).items(max_r)\n",
        "    # Changes can be made here to get more tweet fields\n",
        "    tweets_list = [[tweet.user.id, tweet.user.name, tweet.id, tweet.user.location, tweet.created_at, tweet.text] for tweet in tweets]\n",
        "    # Converting the data to Pandas DataFrame\n",
        "    tweets_df = pd.DataFrame(tweets_list, columns = ['UserID','Name','TweetID','User Location','Date and Time','Text'])\n",
        "    return tweets_df"
      ],
      "metadata": {
        "id": "rhz58HP9tn_Q"
      },
      "execution_count": 8,
      "outputs": []
    },
    {
      "cell_type": "code",
      "source": [
        "def sentiments(tweets):\n",
        "    analyzer = SentimentIntensityAnalyzer()\n",
        "    tweets['scores'] = tweets['Text'].apply(lambda Text: analyzer.polarity_scores(Text))\n",
        "    tweets['compound'] = tweets['scores'].apply(lambda score_dict: score_dict['compound'])\n",
        "    # If the compound score is less than 0 it's negative, else positive\n",
        "    tweets['comp_score'] = tweets['compound'].apply(lambda c: 'positive' if c>=0 else 'negative')\n",
        "    return tweets"
      ],
      "metadata": {
        "id": "KNx2NwJRttrT"
      },
      "execution_count": 5,
      "outputs": []
    },
    {
      "cell_type": "code",
      "source": [
        "def main():\n",
        "    # Credentials can be changed here depending on the user\n",
        "    api_key = \"4kcQ1A4Fdo6vXUYucVx7AOHKU\"\n",
        "    api_secret = \"EyofPjOmC9dJ1p8NyLaM2OmnChxWLbBvHAsf68u9FiVMmW4Tja\"\n",
        "    access_token = \"919976584999604227-iy8qhdGxks9IAYsJwKkjdrSDmoJbcYi\"\n",
        "    access_token_secret = \"rZy4N3abFbbuO55EmDM06ne8o2QOKRVbW6Oe2GD1UnwM9\"\n",
        "    \n",
        "    # To take name of the brand and max number of tweets from the user\n",
        "    keyword = input(\"Enter the keyword :\")\n",
        "    max_r = input(\"Enter the max number of tweets required :\")\n",
        "    \n",
        "    api = authenticate(api_key,api_secret,access_token,access_token_secret)\n",
        "    tweets = tweet_data(api, keyword, int(max_r))\n",
        "    \n",
        "    analysed_tweets = sentiments(tweets)\n",
        "    print(analysed_tweets)"
      ],
      "metadata": {
        "id": "nxp5XuVEtycK"
      },
      "execution_count": 6,
      "outputs": []
    },
    {
      "cell_type": "code",
      "source": [
        "if __name__ ==  \"__main__\":\n",
        "    main()"
      ],
      "metadata": {
        "colab": {
          "base_uri": "https://localhost:8080/"
        },
        "id": "BzJgtmJ-t5ML",
        "outputId": "c83ec735-041f-49eb-85cf-e9b067ffc175"
      },
      "execution_count": 9,
      "outputs": [
        {
          "output_type": "stream",
          "name": "stdout",
          "text": [
            "Enter the keyword :oscars2022\n",
            "Enter the max number of tweets required :1500\n",
            "ShubhangiRanja3\n",
            "                   UserID                       Name              TweetID  \\\n",
            "0      744395866870517760                     Tuğrul  1509697328340520960   \n",
            "1              3333895942                Daniel Hill  1509697285218836481   \n",
            "2     1239224154446090241                     Fricca  1509697278159769606   \n",
            "3     1476096158707888135                          𝚅  1509697226725281798   \n",
            "4     1371333509936115715               ✨FunTonight✨  1509697171020419089   \n",
            "...                   ...                        ...                  ...   \n",
            "1495  1252156264357953536                Gamze Ergin  1509632286953996288   \n",
            "1496  1273390263298334720              PATRICITA5758  1509632270600183809   \n",
            "1497             29458589         Rosaleia Steinard.  1509632268054192133   \n",
            "1498  1192390622990274560  Muneeb| Free Palestine 🇯🇴  1509632250186383379   \n",
            "1499   982742836129955842                   dazzaXx🥐  1509632165516038151   \n",
            "\n",
            "                User Location       Date and Time  \\\n",
            "0          Çanakkale, Türkiye 2022-04-01 01:01:06   \n",
            "1                     East NC 2022-04-01 01:00:56   \n",
            "2                             2022-04-01 01:00:54   \n",
            "3        solitary confinement 2022-04-01 01:00:42   \n",
            "4                          🇵🇭 2022-04-01 01:00:29   \n",
            "...                       ...                 ...   \n",
            "1495        İstanbul, Türkiye 2022-03-31 20:42:39   \n",
            "1496                          2022-03-31 20:42:35   \n",
            "1497              Detroit, MI 2022-03-31 20:42:34   \n",
            "1498          My House, world 2022-03-31 20:42:30   \n",
            "1499  England, United Kingdom 2022-03-31 20:42:10   \n",
            "\n",
            "                                                   Text  \\\n",
            "0     RT @DinginMehmet: Demet Akalın şaşırtmadı😃\\n#O...   \n",
            "1     RT @kathleenmadigan: Yeah even in shitty bars,...   \n",
            "2     RT @paella_con_pina: Ahí va la hostia pués!\\n\\...   \n",
            "3     RT @catdioo: (Repost) that meme with colorful ...   \n",
            "4     RT @hauslabs: #Oscars2022 wearing all #HausLab...   \n",
            "...                                                 ...   \n",
            "1495  RT @crypt_engineer: #Dogecoin kurucusu Twitter...   \n",
            "1496  RT @adassaofficial: The moment we won! #Oscars...   \n",
            "1497  #BREAKING: “No one has apologized to us,\" Syke...   \n",
            "1498  RT @ShahjeeTweets_X: Riz Ahmed, a Pakistani-Am...   \n",
            "1499  RT @PeteFighter: OK……. This one wins!!\\n#WillS...   \n",
            "\n",
            "                                                 scores  compound comp_score  \n",
            "0     {'neg': 0.0, 'neu': 0.815, 'pos': 0.185, 'comp...    0.3612   positive  \n",
            "1     {'neg': 0.178, 'neu': 0.741, 'pos': 0.081, 'co...   -0.3818   negative  \n",
            "2     {'neg': 0.0, 'neu': 1.0, 'pos': 0.0, 'compound...    0.0000   positive  \n",
            "3     {'neg': 0.0, 'neu': 1.0, 'pos': 0.0, 'compound...    0.0000   positive  \n",
            "4     {'neg': 0.0, 'neu': 1.0, 'pos': 0.0, 'compound...    0.0000   positive  \n",
            "...                                                 ...       ...        ...  \n",
            "1495  {'neg': 0.0, 'neu': 1.0, 'pos': 0.0, 'compound...    0.0000   positive  \n",
            "1496  {'neg': 0.0, 'neu': 0.765, 'pos': 0.235, 'comp...    0.6114   positive  \n",
            "1497  {'neg': 0.077, 'neu': 0.818, 'pos': 0.105, 'co...    0.1548   positive  \n",
            "1498  {'neg': 0.0, 'neu': 0.735, 'pos': 0.265, 'comp...    0.8020   positive  \n",
            "1499  {'neg': 0.0, 'neu': 0.752, 'pos': 0.248, 'comp...    0.6467   positive  \n",
            "\n",
            "[1500 rows x 9 columns]\n"
          ]
        }
      ]
    }
  ]
}